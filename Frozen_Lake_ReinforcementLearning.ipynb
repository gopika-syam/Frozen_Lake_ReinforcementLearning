{
 "cells": [
  {
   "cell_type": "markdown",
   "id": "6cc2245a",
   "metadata": {},
   "source": [
    "## Frozen Lake Agent Implementation with Reinforcement Learning"
   ]
  },
  {
   "attachments": {
    "download.png": {
     "image/png": "[encoded data removed]"
    }
   },
   "cell_type": "markdown",
   "id": "c08d41a1",
   "metadata": {},
   "source": [
    "##### This program tries to implement an agent that plays Frozen Lake by walking only on the frozen tiles and avoiding holes to reach goal state with Deep Reinforcement Learning by implementing Q table\n",
    "\n",
    "The surface is described as:-\n",
    "![image.png](attachment:download.png)\n",
    "\n",
    "\n",
    "This grid represents the environment, with S as the agent's starting point which is safe. F stands for the frozen surface and is also a safe . H stands for a hole, and stepping into a hole is not safe. Finally, G stands for the goal, which is the grid spot where the prized frisbee resides.\n",
    "The agent can go left, right, up, and down, and the episode concludes when the agent achieves the goal or falls into a hole. If it achieves the goal, it earns a one-point reward; otherwise, it receives a zero-point reward."
   ]
  },
  {
   "cell_type": "code",
   "execution_count": 13,
   "id": "bc54cab2",
   "metadata": {},
   "outputs": [],
   "source": [
    "#Importing libraries\n",
    "import numpy as np\n",
    "import gym\n",
    "import random\n",
    "import time\n",
    "from IPython.display import clear_output"
   ]
  },
  {
   "cell_type": "code",
   "execution_count": 14,
   "id": "e51b6389",
   "metadata": {},
   "outputs": [
    {
     "name": "stdout",
     "output_type": "stream",
     "text": [
      "<TimeLimit<FrozenLakeEnv<FrozenLake-v1>>>\n",
      "4\n",
      "16\n"
     ]
    }
   ],
   "source": [
    "#Setting up the environement\n",
    "env = gym.make(\"FrozenLake-v1\")\n",
    "print(env)\n",
    "action_size = env.action_space.n\n",
    "state_size = env.observation_space.n\n",
    "print(action_size)\n",
    "print(state_size)"
   ]
  },
  {
   "cell_type": "code",
   "execution_count": 15,
   "id": "675d90a8",
   "metadata": {},
   "outputs": [
    {
     "name": "stdout",
     "output_type": "stream",
     "text": [
      "[[0. 0. 0. 0.]\n",
      " [0. 0. 0. 0.]\n",
      " [0. 0. 0. 0.]\n",
      " [0. 0. 0. 0.]\n",
      " [0. 0. 0. 0.]\n",
      " [0. 0. 0. 0.]\n",
      " [0. 0. 0. 0.]\n",
      " [0. 0. 0. 0.]\n",
      " [0. 0. 0. 0.]\n",
      " [0. 0. 0. 0.]\n",
      " [0. 0. 0. 0.]\n",
      " [0. 0. 0. 0.]\n",
      " [0. 0. 0. 0.]\n",
      " [0. 0. 0. 0.]\n",
      " [0. 0. 0. 0.]\n",
      " [0. 0. 0. 0.]]\n"
     ]
    }
   ],
   "source": [
    "#Creating Q table and initialising all the Q-values to zero for each state-action pair.\n",
    "qtable = np.zeros((state_size, action_size))\n",
    "print(qtable)"
   ]
  },
  {
   "cell_type": "code",
   "execution_count": 16,
   "id": "fec485eb",
   "metadata": {},
   "outputs": [],
   "source": [
    "#Paramater initialisation\n",
    "total_episodes = 20000        \n",
    "learning_rate = 0.8           \n",
    "max_steps = 99                \n",
    "gamma = 0.95                  \n",
    "\n",
    "# Exploration parameters\n",
    "epsilon = 1.0                 \n",
    "max_epsilon = 1.0             \n",
    "min_epsilon = 0.01            \n",
    "decay_rate = 0.005             "
   ]
  },
  {
   "cell_type": "code",
   "execution_count": 17,
   "id": "3bc166e0",
   "metadata": {},
   "outputs": [
    {
     "name": "stdout",
     "output_type": "stream",
     "text": [
      "Score: 0.48485\n",
      "[[2.72410733e-01 8.46745727e-02 2.71207412e-02 1.01200007e-01]\n",
      " [7.57225144e-03 3.16070816e-03 2.61914488e-03 1.19577166e-01]\n",
      " [6.37633256e-03 4.72566726e-03 4.02838004e-03 2.60025913e-02]\n",
      " [1.67308341e-03 5.16211965e-03 6.22734402e-04 1.43855119e-02]\n",
      " [3.47245102e-01 8.26073936e-02 2.96179850e-02 5.89047706e-02]\n",
      " [0.00000000e+00 0.00000000e+00 0.00000000e+00 0.00000000e+00]\n",
      " [1.20102059e-03 8.45402573e-04 4.92025269e-05 1.84368981e-06]\n",
      " [0.00000000e+00 0.00000000e+00 0.00000000e+00 0.00000000e+00]\n",
      " [3.19323266e-02 8.57066031e-03 2.52409379e-02 4.34404473e-01]\n",
      " [7.10553327e-03 7.63143971e-01 2.08078809e-04 3.23942006e-01]\n",
      " [8.84844649e-01 2.66556365e-04 1.86419107e-03 4.86174880e-04]\n",
      " [0.00000000e+00 0.00000000e+00 0.00000000e+00 0.00000000e+00]\n",
      " [0.00000000e+00 0.00000000e+00 0.00000000e+00 0.00000000e+00]\n",
      " [5.85827667e-02 1.09542013e-01 5.76322804e-01 1.26134760e-03]\n",
      " [2.51544637e-01 9.80819065e-01 2.05031402e-01 2.02525418e-01]\n",
      " [0.00000000e+00 0.00000000e+00 0.00000000e+00 0.00000000e+00]]\n"
     ]
    }
   ],
   "source": [
    "#To hold all the rewards\n",
    "rewards = []\n",
    "for episode in range(total_episodes):\n",
    "    state = env.reset()\n",
    "    step = 0\n",
    "    done = False\n",
    "    total_rewards = 0\n",
    "    for step in range(max_steps):\n",
    "        exp_exp_tradeoff = random.uniform(0, 1)\n",
    "        if exp_exp_tradeoff > epsilon:\n",
    "            action = np.argmax(qtable[state,:])\n",
    "        else:\n",
    "            action = env.action_space.sample()\n",
    "        new_state, reward, done, info = env.step(action)\n",
    "        qtable[state, action] = qtable[state, action] + learning_rate * (reward + gamma * np.max(qtable[new_state, :]) - qtable[state, action])\n",
    "        total_rewards += reward\n",
    "        state = new_state\n",
    "        if done == True: \n",
    "            break\n",
    "    epsilon = min_epsilon + (max_epsilon - min_epsilon)*np.exp(-decay_rate*episode) \n",
    "    rewards.append(total_rewards)\n",
    "print (\"Score: \" +  str(sum(rewards)/total_episodes))\n",
    "print(qtable)\n"
   ]
  },
  {
   "cell_type": "code",
   "execution_count": 20,
   "id": "37893eab",
   "metadata": {},
   "outputs": [
    {
     "name": "stdout",
     "output_type": "stream",
     "text": [
      "$$$$$$$$$$$$$$$$$$$$$$$$$$$$$$$$$$$$$$$$$$$$$\n",
      "EPISODE  0\n",
      "  (Down)\n",
      "SFFF\n",
      "FHFH\n",
      "FFFH\n",
      "HFF\u001b[41mG\u001b[0m\n",
      "No of steps taken 43\n",
      "$$$$$$$$$$$$$$$$$$$$$$$$$$$$$$$$$$$$$$$$$$$$$\n",
      "EPISODE  1\n",
      "  (Left)\n",
      "SFFF\n",
      "F\u001b[41mH\u001b[0mFH\n",
      "FFFH\n",
      "HFFG\n",
      "No of steps taken 35\n",
      "$$$$$$$$$$$$$$$$$$$$$$$$$$$$$$$$$$$$$$$$$$$$$\n",
      "EPISODE  2\n",
      "  (Down)\n",
      "SFFF\n",
      "FHFH\n",
      "FFFH\n",
      "HFF\u001b[41mG\u001b[0m\n",
      "No of steps taken 6\n",
      "$$$$$$$$$$$$$$$$$$$$$$$$$$$$$$$$$$$$$$$$$$$$$\n",
      "EPISODE  3\n",
      "  (Down)\n",
      "SFFF\n",
      "FHFH\n",
      "FFFH\n",
      "HFF\u001b[41mG\u001b[0m\n",
      "No of steps taken 27\n",
      "$$$$$$$$$$$$$$$$$$$$$$$$$$$$$$$$$$$$$$$$$$$$$\n",
      "EPISODE  4\n",
      "  (Down)\n",
      "SFFF\n",
      "FHFH\n",
      "FFFH\n",
      "HFF\u001b[41mG\u001b[0m\n",
      "No of steps taken 29\n"
     ]
    }
   ],
   "source": [
    "#Agent playing frozen Lake\n",
    "env.reset()\n",
    "for episode in range(5):\n",
    "    state = env.reset()\n",
    "    step = 0\n",
    "    done = False\n",
    "    print(\"$$$$$$$$$$$$$$$$$$$$$$$$$$$$$$$$$$$$$$$$$$$$$\")\n",
    "    print(\"EPISODE \", episode)\n",
    "    for step in range(max_steps):\n",
    "        action = np.argmax(qtable[state,:])\n",
    "        new_state, reward, done, info = env.step(action)\n",
    "        if done:\n",
    "            env.render()\n",
    "            print(\"No of steps taken\", step)\n",
    "            break\n",
    "        state = new_state\n",
    "env.close()"
   ]
  }
 ],
 "metadata": {
  "kernelspec": {
   "display_name": "Python 3",
   "language": "python",
   "name": "python3"
  },
  "language_info": {
   "codemirror_mode": {
    "name": "ipython",
    "version": 3
   },
   "file_extension": ".py",
   "mimetype": "text/x-python",
   "name": "python",
   "nbconvert_exporter": "python",
   "pygments_lexer": "ipython3",
   "version": "3.8.8"
  }
 },
 "nbformat": 4,
 "nbformat_minor": 5
}
